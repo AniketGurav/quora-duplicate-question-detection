{
 "cells": [
  {
   "cell_type": "code",
   "execution_count": 1,
   "metadata": {
    "collapsed": false,
    "deletable": true,
    "editable": true
   },
   "outputs": [],
   "source": [
    "import numpy as np\n",
    "# from gensim.models import Word2Vec\n",
    "from itertools import chain\n",
    "from collections import Counter\n",
    "import os\n",
    "from tqdm import trange\n",
    "import multiprocessing\n",
    "import string, re\n",
    "import shutil"
   ]
  },
  {
   "cell_type": "code",
   "execution_count": 2,
   "metadata": {
    "collapsed": false,
    "deletable": true,
    "editable": true
   },
   "outputs": [
    {
     "data": {
      "text/plain": [
       "106685"
      ]
     },
     "execution_count": 2,
     "metadata": {},
     "output_type": "execute_result"
    }
   ],
   "source": [
    "w2v = dict()\n",
    "with open('watson partition/Quora_question_pair_partition/wordvec.txt') as f:\n",
    "    for line in f:\n",
    "        temp = line.split()\n",
    "        try:\n",
    "            w2v[' '.join(temp[0:len(temp)-300])] = list(map(float, temp[-300:]))\n",
    "        except Exception as e:\n",
    "            print(e, line)\n",
    "            continue\n",
    "len(w2v)"
   ]
  },
  {
   "cell_type": "code",
   "execution_count": 3,
   "metadata": {
    "collapsed": false,
    "deletable": true,
    "editable": true
   },
   "outputs": [],
   "source": [
    "with open('watson partition/Quora_question_pair_partition/test.tsv', 'r') as f:\n",
    "    lines = f.readlines()\n",
    "    lines = [l.split('\\t')[:-1] for l in lines]\n",
    "l = len(lines)\n",
    "\n",
    "def clean(sent):\n",
    "    sent = str(sent).lower().split()\n",
    "#     sent = ''.join('#' if i.isdigit() else i for i in sent if i not in string.punctuation)\n",
    "#     sent = re.sub('#+', '#', sent).split()\n",
    "    sent = [k for k in sent if k in w2v]\n",
    "    return sent\n",
    "data = []\n",
    "for i in range(l):\n",
    "    try:\n",
    "        data.append([clean(lines[i][1]), clean(lines[i][2]), lines[i][0]])\n",
    "    except Exception as e:\n",
    "        continue\n",
    "data = [[i[0], i[1], i[2]] for i in data if not (not i[0] or not i[1])]"
   ]
  },
  {
   "cell_type": "code",
   "execution_count": 5,
   "metadata": {
    "collapsed": true,
    "deletable": true,
    "editable": true
   },
   "outputs": [],
   "source": [
    "all_qs = np.concatenate((np.array(data)[:,0], np.array(data)[:,1]), axis=0)\n",
    "vocab = Counter(chain(*all_qs))\n",
    "vocab = {k:v for k, v in vocab.items() if v >= 2}\n",
    "for i in range(l):\n",
    "    data[i][0] = [x if x in vocab else 'unk' for x in data[i][0]]\n",
    "    data[i][1] = [x if x in vocab else 'unk' for x in data[i][1]]"
   ]
  },
  {
   "cell_type": "code",
   "execution_count": 29,
   "metadata": {
    "collapsed": true,
    "deletable": true,
    "editable": true
   },
   "outputs": [],
   "source": [
    "m = Word2Vec(np.concatenate([np.array(data)[:, 0], np.array(data)[:, 1]], 0), batch_words=1000, sg=1, negative=64, \n",
    "             min_count=2, iter=2, size=200, workers=multiprocessing.cpu_count())"
   ]
  },
  {
   "cell_type": "code",
   "execution_count": 16,
   "metadata": {
    "collapsed": true,
    "deletable": true,
    "editable": true
   },
   "outputs": [],
   "source": [
    "# m.save('embeddings.model')\n",
    "m = Word2Vec.load('embeddings.model')"
   ]
  },
  {
   "cell_type": "code",
   "execution_count": 4,
   "metadata": {
    "collapsed": false,
    "deletable": true,
    "editable": true
   },
   "outputs": [
    {
     "name": "stdout",
     "output_type": "stream",
     "text": [
      "272\n"
     ]
    }
   ],
   "source": [
    "# max_length = max([max(len(i), len(j)) for i, j, _ in data])\n",
    "max_length = 272\n",
    "print(max_length)\n",
    "batch_size = 64\n",
    "dim = 300"
   ]
  },
  {
   "cell_type": "code",
   "execution_count": 5,
   "metadata": {
    "collapsed": false,
    "deletable": true,
    "editable": true
   },
   "outputs": [],
   "source": [
    "i2w = dict(enumerate(list(w2v.keys())))\n",
    "w2i = {v:k for k, v in i2w.items()}\n",
    "vocab_size = len(i2w)\n",
    "for i in range(l):\n",
    "    data[i][0] = [w2i[j] for j in data[i][0]] + [vocab_size] * (max_length -len(data[i][0]))\n",
    "    data[i][1] = [w2i[j] for j in data[i][1]] + [vocab_size] * (max_length -len(data[i][1]))"
   ]
  },
  {
   "cell_type": "code",
   "execution_count": 6,
   "metadata": {
    "collapsed": false,
    "deletable": true,
    "editable": true
   },
   "outputs": [
    {
     "name": "stdout",
     "output_type": "stream",
     "text": [
      "((10000, 272), (10000, 272), (10000,))\n"
     ]
    }
   ],
   "source": [
    "q1 = np.array([i[0] for i in data])\n",
    "q2 = np.array([i[1] for i in data])\n",
    "y = np.array([i[2] for i in data])\n",
    "print(q1.shape, q2.shape, y.shape)"
   ]
  },
  {
   "cell_type": "code",
   "execution_count": 7,
   "metadata": {
    "collapsed": false,
    "deletable": true,
    "editable": true
   },
   "outputs": [],
   "source": [
    "vec = np.zeros([vocab_size + 1, dim])\n",
    "for i, j in i2w.items():\n",
    "    vec[i] = w2v[j]\n",
    "vec[vocab_size] = [0] * 300"
   ]
  },
  {
   "cell_type": "code",
   "execution_count": 8,
   "metadata": {
    "collapsed": true,
    "deletable": true,
    "editable": true
   },
   "outputs": [],
   "source": [
    "def batch(x, y, z, size):\n",
    "    idx = np.random.choice(range(len(x)), size=size, replace=False)\n",
    "    return x[idx], y[idx], z[idx]"
   ]
  },
  {
   "cell_type": "code",
   "execution_count": 8,
   "metadata": {
    "collapsed": false,
    "deletable": true,
    "editable": true
   },
   "outputs": [],
   "source": [
    "rm -r data"
   ]
  },
  {
   "cell_type": "code",
   "execution_count": 9,
   "metadata": {
    "collapsed": false,
    "deletable": true,
    "editable": true
   },
   "outputs": [],
   "source": [
    "# writing test data\n",
    "if os.path.exists('data_test'):\n",
    "    shutil.rmtree('data_test')\n",
    "os.mkdir('data_test')\n",
    "for i in range(0, 10000, 64):\n",
    "    np.savez('data_test/' + str(i), ques1=q1[i:i+64], ques2=q2[i:i+64], label=y[i:i+64])"
   ]
  },
  {
   "cell_type": "code",
   "execution_count": 14,
   "metadata": {
    "collapsed": false,
    "deletable": true,
    "editable": true
   },
   "outputs": [
    {
     "name": "stderr",
     "output_type": "stream",
     "text": [
      "  0%|          | 4/6000 [00:00<03:08, 31.78it/s]"
     ]
    },
    {
     "name": "stdout",
     "output_type": "stream",
     "text": [
      "Counter({'0': 245042, '1': 139306})\n"
     ]
    },
    {
     "name": "stderr",
     "output_type": "stream",
     "text": [
      "100%|██████████| 6000/6000 [02:44<00:00, 36.46it/s]\n"
     ]
    }
   ],
   "source": [
    "if not os.path.exists('data'):\n",
    "    os.mkdir('data')\n",
    "# idx = np.random.choice(q1.shape[0], 100000, replace=False)\n",
    "# q1_small, q2_small, y_small = q1[idx], q2[idx], y[idx]\n",
    "# print(Counter(y))\n",
    "for i in trange(6000):\n",
    "    a, b, c = batch(q1, q2, y, 64)\n",
    "    np.savez('data/'+str(i)+'.npz', ques1=a, ques2=b, label=c)"
   ]
  },
  {
   "cell_type": "code",
   "execution_count": 13,
   "metadata": {
    "collapsed": true,
    "deletable": true,
    "editable": true
   },
   "outputs": [],
   "source": [
    "np.savez('data/embed.npz', embed=vec)"
   ]
  },
  {
   "cell_type": "code",
   "execution_count": 13,
   "metadata": {
    "collapsed": false,
    "deletable": true,
    "editable": true
   },
   "outputs": [
    {
     "data": {
      "text/plain": [
       "6005"
      ]
     },
     "execution_count": 13,
     "metadata": {},
     "output_type": "execute_result"
    }
   ],
   "source": [
    "384348 / 64"
   ]
  },
  {
   "cell_type": "code",
   "execution_count": null,
   "metadata": {
    "collapsed": true,
    "deletable": true,
    "editable": true
   },
   "outputs": [],
   "source": []
  }
 ],
 "metadata": {
  "kernelspec": {
   "display_name": "Python 2",
   "language": "python",
   "name": "python2"
  },
  "language_info": {
   "codemirror_mode": {
    "name": "ipython",
    "version": 2
   },
   "file_extension": ".py",
   "mimetype": "text/x-python",
   "name": "python",
   "nbconvert_exporter": "python",
   "pygments_lexer": "ipython2",
   "version": "2.7.12"
  }
 },
 "nbformat": 4,
 "nbformat_minor": 1
}
